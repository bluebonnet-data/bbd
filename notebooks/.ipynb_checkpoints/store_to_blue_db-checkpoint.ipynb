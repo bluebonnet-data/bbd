{
 "cells": [
  {
   "cell_type": "code",
   "execution_count": 9,
   "id": "initial_id",
   "metadata": {
    "collapsed": true,
    "ExecuteTime": {
     "end_time": "2023-09-10T00:49:09.250880Z",
     "start_time": "2023-09-10T00:49:09.248357Z"
    }
   },
   "outputs": [],
   "source": [
    "from bbd.blue_bonnet_db.blue_bonnet_db import BlueBonnetDB"
   ]
  },
  {
   "cell_type": "code",
   "execution_count": 13,
   "outputs": [],
   "source": [
    "data_csv_file = \"data_urls.txt\""
   ],
   "metadata": {
    "collapsed": false,
    "ExecuteTime": {
     "end_time": "2023-09-10T00:54:08.109161Z",
     "start_time": "2023-09-10T00:54:08.065468Z"
    }
   },
   "id": "f444299754a4af8d"
  },
  {
   "cell_type": "code",
   "execution_count": 51,
   "outputs": [],
   "source": [
    "def parse_line(line: str) -> str:\n",
    "    path = line.split(\"/openelections/\")[-1]\n",
    "    state = path.split(\"/\")[0][-2:]\n",
    "    file_name = path.split(\"/\")[-1]\n",
    "    new_path = path.split(\"/master/\")[-1]\n",
    "    \n",
    "    return(f\"name = {file_name}, path = {path}, state = {state}, new_path = {new_path}\")"
   ],
   "metadata": {
    "collapsed": false,
    "ExecuteTime": {
     "end_time": "2023-09-10T01:07:13.620654Z",
     "start_time": "2023-09-10T01:07:13.619710Z"
    }
   },
   "id": "82bcba593fc70ba"
  },
  {
   "cell_type": "code",
   "execution_count": 53,
   "outputs": [
    {
     "name": "stderr",
     "output_type": "stream",
     "text": [
      "IOPub data rate exceeded.\n",
      "The Jupyter server will temporarily stop sending output\n",
      "to the client in order to avoid crashing it.\n",
      "To change this limit, set the config variable\n",
      "`--ServerApp.iopub_data_rate_limit`.\n",
      "\n",
      "Current values:\n",
      "ServerApp.iopub_data_rate_limit=1000000.0 (bytes/sec)\n",
      "ServerApp.rate_limit_window=3.0 (secs)\n",
      "\n"
     ]
    }
   ],
   "source": [
    "\n",
    "with open(data_csv_file, \"r\") as f:\n",
    "    for line in f:\n",
    "        print(parse_line(line))"
   ],
   "metadata": {
    "collapsed": false,
    "ExecuteTime": {
     "end_time": "2023-09-10T01:08:17.349802Z",
     "start_time": "2023-09-10T01:08:17.297678Z"
    }
   },
   "id": "c6c8a60cf1569e9"
  },
  {
   "cell_type": "code",
   "execution_count": null,
   "outputs": [],
   "source": [
    "    # client = storage.Client(\"blue_bonnet_db-data-public\")\n",
    "    # export_bucket = client.get_bucket(\"blue_bonnet_db-data-public\")\n",
    "    # with open(\"test_file.csv\", \"r\") as f:\n",
    "    #     export_bucket.blob(\"test_folder/test_file2.csv\").upload_from_file(file_obj=f)"
   ],
   "metadata": {
    "collapsed": false
   },
   "id": "92690e0903650d37"
  }
 ],
 "metadata": {
  "kernelspec": {
   "display_name": "Python 3",
   "language": "python",
   "name": "python3"
  },
  "language_info": {
   "codemirror_mode": {
    "name": "ipython",
    "version": 2
   },
   "file_extension": ".py",
   "mimetype": "text/x-python",
   "name": "python",
   "nbconvert_exporter": "python",
   "pygments_lexer": "ipython2",
   "version": "2.7.6"
  }
 },
 "nbformat": 4,
 "nbformat_minor": 5
}
