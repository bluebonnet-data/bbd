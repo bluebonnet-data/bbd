{
 "cells": [
  {
   "cell_type": "code",
   "execution_count": 1,
   "id": "initial_id",
   "metadata": {
    "tags": [],
    "ExecuteTime": {
     "end_time": "2023-09-10T01:46:26.484620Z",
     "start_time": "2023-09-10T01:46:25.429474Z"
    }
   },
   "outputs": [
    {
     "name": "stdout",
     "output_type": "stream",
     "text": [
      "/Users/kathrynpanger/Documents/projects/censusExplorer/notebooks\n"
     ]
    }
   ],
   "source": [
    "import sys\n",
    "import os\n",
    "from pathlib import Path\n",
    "print(os.getcwd())\n",
    "sys.path.append(str(Path(os.getcwd()).parent))\n",
    "from src.bbd.blue_bonnet_db.blue_bonnet_db import BlueBonnetDB"
   ]
  },
  {
   "cell_type": "code",
   "execution_count": 2,
   "id": "f444299754a4af8d",
   "metadata": {
    "collapsed": false,
    "ExecuteTime": {
     "end_time": "2023-09-10T01:46:26.485111Z",
     "start_time": "2023-09-10T01:46:26.435979Z"
    }
   },
   "outputs": [],
   "source": [
    "data_csv_file = \"data_urls.txt\""
   ]
  },
  {
   "cell_type": "code",
   "execution_count": 3,
   "id": "82bcba593fc70ba",
   "metadata": {
    "collapsed": false,
    "ExecuteTime": {
     "end_time": "2023-09-10T01:46:26.520468Z",
     "start_time": "2023-09-10T01:46:26.519699Z"
    }
   },
   "outputs": [],
   "source": [
    "def parse_line(line: str) -> str:\n",
    "    path = line.split(\"/openelections/\")[-1]\n",
    "    state = path.split(\"/\")[0][-2:]\n",
    "    file_name = path.split(\"/\")[-1]\n",
    "    new_path = path.split(\"/master/\")[-1]\n",
    "    \n",
    "    return(f\"name = {file_name}, path = {path}, state = {state}, new_path = {new_path}\")"
   ]
  },
  {
   "cell_type": "code",
   "execution_count": 4,
   "id": "c6c8a60cf1569e9",
   "metadata": {
    "collapsed": false,
    "ExecuteTime": {
     "end_time": "2023-09-10T01:46:26.909386Z",
     "start_time": "2023-09-10T01:46:26.847052Z"
    }
   },
   "outputs": [
    {
     "name": "stderr",
     "output_type": "stream",
     "text": [
      "IOPub data rate exceeded.\n",
      "The Jupyter server will temporarily stop sending output\n",
      "to the client in order to avoid crashing it.\n",
      "To change this limit, set the config variable\n",
      "`--ServerApp.iopub_data_rate_limit`.\n",
      "\n",
      "Current values:\n",
      "ServerApp.iopub_data_rate_limit=1000000.0 (bytes/sec)\n",
      "ServerApp.rate_limit_window=3.0 (secs)\n",
      "\n"
     ]
    }
   ],
   "source": [
    "with open(data_csv_file, \"r\") as f:\n",
    "    for line in f:\n",
    "        print(parse_line(line))"
   ]
  },
  {
   "cell_type": "code",
   "execution_count": null,
   "id": "92690e0903650d37",
   "metadata": {
    "collapsed": false
   },
   "outputs": [],
   "source": [
    "    # client = storage.Client(\"blue_bonnet_db-data-public\")\n",
    "    # export_bucket = client.get_bucket(\"blue_bonnet_db-data-public\")\n",
    "    # with open(\"test_file.csv\", \"r\") as f:\n",
    "    #     export_bucket.blob(\"test_folder/test_file2.csv\").upload_from_file(file_obj=f)"
   ]
  }
 ],
 "metadata": {
  "kernelspec": {
   "display_name": "Python 3 (ipykernel)",
   "language": "python",
   "name": "python3"
  },
  "language_info": {
   "codemirror_mode": {
    "name": "ipython",
    "version": 3
   },
   "file_extension": ".py",
   "mimetype": "text/x-python",
   "name": "python",
   "nbconvert_exporter": "python",
   "pygments_lexer": "ipython3",
   "version": "3.11.4"
  }
 },
 "nbformat": 4,
 "nbformat_minor": 5
}
